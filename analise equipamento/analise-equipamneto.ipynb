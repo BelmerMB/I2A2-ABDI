{
 "cells": [
  {
   "cell_type": "markdown",
   "metadata": {},
   "source": [
    "O relatório documenta a investigação realizada sobre 17 sensores distribuídos em 8 equipamentos, com o objetivo de detectar qual equipamento apresenta um possivel defeito. \n",
    "A tarefa da análise abrangente dos dados, utilizando métodos estatísticos e ferramentas computacionais para identificar padrões e correlações.\n",
    "Para alcançar este propósito, foi empregada a biblioteca pandas do Python, notadamente a função 'corr' para calcular as correlações entre os diferentes sensores. Essa abordagem permitiu mapear as relações entre as variáveis monitoradas e, assim, destacar padrões que pudessem indicar anormalidades nos equipamentos. \n",
    "A visualização dessas correlações foi apresentada através da representação gráfica em um mapa de calor, oferecendo uma perspectiva intuitiva das interações entre os sensores."
   ]
  },
  {
   "cell_type": "markdown",
   "metadata": {},
   "source": [
    "O primeiro passo é importar as bibliotecas e carregar o arquivo em um dataframe:"
   ]
  },
  {
   "cell_type": "code",
   "execution_count": 1,
   "metadata": {},
   "outputs": [],
   "source": [
    "import pandas as pd\n",
    "import matplotlib.pyplot as plp"
   ]
  },
  {
   "cell_type": "code",
   "execution_count": 2,
   "metadata": {},
   "outputs": [
    {
     "data": {
      "text/html": [
       "<div>\n",
       "<style scoped>\n",
       "    .dataframe tbody tr th:only-of-type {\n",
       "        vertical-align: middle;\n",
       "    }\n",
       "\n",
       "    .dataframe tbody tr th {\n",
       "        vertical-align: top;\n",
       "    }\n",
       "\n",
       "    .dataframe thead th {\n",
       "        text-align: right;\n",
       "    }\n",
       "</style>\n",
       "<table border=\"1\" class=\"dataframe\">\n",
       "  <thead>\n",
       "    <tr style=\"text-align: right;\">\n",
       "      <th></th>\n",
       "      <th>Seq</th>\n",
       "      <th>V1</th>\n",
       "      <th>V2</th>\n",
       "      <th>V3</th>\n",
       "      <th>V4</th>\n",
       "      <th>V5</th>\n",
       "      <th>V6</th>\n",
       "      <th>V7</th>\n",
       "      <th>V8</th>\n",
       "    </tr>\n",
       "  </thead>\n",
       "  <tbody>\n",
       "    <tr>\n",
       "      <th>0</th>\n",
       "      <td>1</td>\n",
       "      <td>375</td>\n",
       "      <td>475</td>\n",
       "      <td>135</td>\n",
       "      <td>458</td>\n",
       "      <td>509</td>\n",
       "      <td>469</td>\n",
       "      <td>336</td>\n",
       "      <td>492</td>\n",
       "    </tr>\n",
       "    <tr>\n",
       "      <th>1</th>\n",
       "      <td>2</td>\n",
       "      <td>57</td>\n",
       "      <td>73</td>\n",
       "      <td>47</td>\n",
       "      <td>53</td>\n",
       "      <td>63</td>\n",
       "      <td>63</td>\n",
       "      <td>62</td>\n",
       "      <td>58</td>\n",
       "    </tr>\n",
       "    <tr>\n",
       "      <th>2</th>\n",
       "      <td>3</td>\n",
       "      <td>245</td>\n",
       "      <td>227</td>\n",
       "      <td>267</td>\n",
       "      <td>242</td>\n",
       "      <td>271</td>\n",
       "      <td>268</td>\n",
       "      <td>219</td>\n",
       "      <td>286</td>\n",
       "    </tr>\n",
       "    <tr>\n",
       "      <th>3</th>\n",
       "      <td>4</td>\n",
       "      <td>1472</td>\n",
       "      <td>1582</td>\n",
       "      <td>1494</td>\n",
       "      <td>1462</td>\n",
       "      <td>1613</td>\n",
       "      <td>1490</td>\n",
       "      <td>1323</td>\n",
       "      <td>1493</td>\n",
       "    </tr>\n",
       "    <tr>\n",
       "      <th>4</th>\n",
       "      <td>5</td>\n",
       "      <td>105</td>\n",
       "      <td>103</td>\n",
       "      <td>66</td>\n",
       "      <td>103</td>\n",
       "      <td>118</td>\n",
       "      <td>101</td>\n",
       "      <td>98</td>\n",
       "      <td>118</td>\n",
       "    </tr>\n",
       "    <tr>\n",
       "      <th>5</th>\n",
       "      <td>6</td>\n",
       "      <td>54</td>\n",
       "      <td>64</td>\n",
       "      <td>41</td>\n",
       "      <td>62</td>\n",
       "      <td>55</td>\n",
       "      <td>63</td>\n",
       "      <td>59</td>\n",
       "      <td>59</td>\n",
       "    </tr>\n",
       "    <tr>\n",
       "      <th>6</th>\n",
       "      <td>7</td>\n",
       "      <td>193</td>\n",
       "      <td>235</td>\n",
       "      <td>209</td>\n",
       "      <td>184</td>\n",
       "      <td>207</td>\n",
       "      <td>223</td>\n",
       "      <td>172</td>\n",
       "      <td>156</td>\n",
       "    </tr>\n",
       "    <tr>\n",
       "      <th>7</th>\n",
       "      <td>8</td>\n",
       "      <td>147</td>\n",
       "      <td>160</td>\n",
       "      <td>93</td>\n",
       "      <td>122</td>\n",
       "      <td>139</td>\n",
       "      <td>152</td>\n",
       "      <td>130</td>\n",
       "      <td>101</td>\n",
       "    </tr>\n",
       "    <tr>\n",
       "      <th>8</th>\n",
       "      <td>9</td>\n",
       "      <td>1102</td>\n",
       "      <td>1137</td>\n",
       "      <td>674</td>\n",
       "      <td>957</td>\n",
       "      <td>1058</td>\n",
       "      <td>1098</td>\n",
       "      <td>990</td>\n",
       "      <td>878</td>\n",
       "    </tr>\n",
       "    <tr>\n",
       "      <th>9</th>\n",
       "      <td>10</td>\n",
       "      <td>720</td>\n",
       "      <td>874</td>\n",
       "      <td>1033</td>\n",
       "      <td>566</td>\n",
       "      <td>628</td>\n",
       "      <td>706</td>\n",
       "      <td>646</td>\n",
       "      <td>320</td>\n",
       "    </tr>\n",
       "    <tr>\n",
       "      <th>10</th>\n",
       "      <td>11</td>\n",
       "      <td>253</td>\n",
       "      <td>265</td>\n",
       "      <td>143</td>\n",
       "      <td>171</td>\n",
       "      <td>193</td>\n",
       "      <td>247</td>\n",
       "      <td>226</td>\n",
       "      <td>99</td>\n",
       "    </tr>\n",
       "    <tr>\n",
       "      <th>11</th>\n",
       "      <td>12</td>\n",
       "      <td>685</td>\n",
       "      <td>803</td>\n",
       "      <td>586</td>\n",
       "      <td>750</td>\n",
       "      <td>830</td>\n",
       "      <td>699</td>\n",
       "      <td>615</td>\n",
       "      <td>777</td>\n",
       "    </tr>\n",
       "    <tr>\n",
       "      <th>12</th>\n",
       "      <td>13</td>\n",
       "      <td>488</td>\n",
       "      <td>570</td>\n",
       "      <td>355</td>\n",
       "      <td>418</td>\n",
       "      <td>465</td>\n",
       "      <td>467</td>\n",
       "      <td>437</td>\n",
       "      <td>313</td>\n",
       "    </tr>\n",
       "    <tr>\n",
       "      <th>13</th>\n",
       "      <td>14</td>\n",
       "      <td>198</td>\n",
       "      <td>203</td>\n",
       "      <td>187</td>\n",
       "      <td>220</td>\n",
       "      <td>247</td>\n",
       "      <td>209</td>\n",
       "      <td>176</td>\n",
       "      <td>204</td>\n",
       "    </tr>\n",
       "    <tr>\n",
       "      <th>14</th>\n",
       "      <td>15</td>\n",
       "      <td>360</td>\n",
       "      <td>365</td>\n",
       "      <td>334</td>\n",
       "      <td>337</td>\n",
       "      <td>376</td>\n",
       "      <td>363</td>\n",
       "      <td>322</td>\n",
       "      <td>348</td>\n",
       "    </tr>\n",
       "    <tr>\n",
       "      <th>15</th>\n",
       "      <td>16</td>\n",
       "      <td>1374</td>\n",
       "      <td>1256</td>\n",
       "      <td>1506</td>\n",
       "      <td>1572</td>\n",
       "      <td>1734</td>\n",
       "      <td>1597</td>\n",
       "      <td>1235</td>\n",
       "      <td>1684</td>\n",
       "    </tr>\n",
       "    <tr>\n",
       "      <th>16</th>\n",
       "      <td>17</td>\n",
       "      <td>156</td>\n",
       "      <td>175</td>\n",
       "      <td>139</td>\n",
       "      <td>147</td>\n",
       "      <td>167</td>\n",
       "      <td>164</td>\n",
       "      <td>138</td>\n",
       "      <td>170</td>\n",
       "    </tr>\n",
       "  </tbody>\n",
       "</table>\n",
       "</div>"
      ],
      "text/plain": [
       "    Seq    V1    V2    V3    V4    V5    V6    V7    V8\n",
       "0     1   375   475   135   458   509   469   336   492\n",
       "1     2    57    73    47    53    63    63    62    58\n",
       "2     3   245   227   267   242   271   268   219   286\n",
       "3     4  1472  1582  1494  1462  1613  1490  1323  1493\n",
       "4     5   105   103    66   103   118   101    98   118\n",
       "5     6    54    64    41    62    55    63    59    59\n",
       "6     7   193   235   209   184   207   223   172   156\n",
       "7     8   147   160    93   122   139   152   130   101\n",
       "8     9  1102  1137   674   957  1058  1098   990   878\n",
       "9    10   720   874  1033   566   628   706   646   320\n",
       "10   11   253   265   143   171   193   247   226    99\n",
       "11   12   685   803   586   750   830   699   615   777\n",
       "12   13   488   570   355   418   465   467   437   313\n",
       "13   14   198   203   187   220   247   209   176   204\n",
       "14   15   360   365   334   337   376   363   322   348\n",
       "15   16  1374  1256  1506  1572  1734  1597  1235  1684\n",
       "16   17   156   175   139   147   167   164   138   170"
      ]
     },
     "execution_count": 2,
     "metadata": {},
     "output_type": "execute_result"
    }
   ],
   "source": [
    "df = pd.read_excel('Defective_Equipment (rev 2024-02-21).xlsx')\n",
    "df"
   ]
  },
  {
   "cell_type": "markdown",
   "metadata": {},
   "source": [
    "Após a importação, fiz o tratamendo dos dados removendo qualquer dado que não importava.\n",
    "No caso eu removi a coluna 'Seq' pois nela so há informações da sequencia do sensor, como não é uma informação relevante para minha análise eu a removi. \n",
    "Logo em sequencia a remoção da coluna 'Seq', eu realizei a correlação das variaveis\n",
    " a correlação é uma medida estatística que descreve a relação entre duas variáveis. A função corr retorna uma matriz de correlação, onde os valores na matriz indicam o grau de associação linear entre pares de colunas."
   ]
  },
  {
   "cell_type": "code",
   "execution_count": 3,
   "metadata": {},
   "outputs": [
    {
     "data": {
      "text/html": [
       "<div>\n",
       "<style scoped>\n",
       "    .dataframe tbody tr th:only-of-type {\n",
       "        vertical-align: middle;\n",
       "    }\n",
       "\n",
       "    .dataframe tbody tr th {\n",
       "        vertical-align: top;\n",
       "    }\n",
       "\n",
       "    .dataframe thead th {\n",
       "        text-align: right;\n",
       "    }\n",
       "</style>\n",
       "<table border=\"1\" class=\"dataframe\">\n",
       "  <thead>\n",
       "    <tr style=\"text-align: right;\">\n",
       "      <th></th>\n",
       "      <th>V1</th>\n",
       "      <th>V2</th>\n",
       "      <th>V3</th>\n",
       "      <th>V4</th>\n",
       "      <th>V5</th>\n",
       "      <th>V6</th>\n",
       "      <th>V7</th>\n",
       "      <th>V8</th>\n",
       "    </tr>\n",
       "  </thead>\n",
       "  <tbody>\n",
       "    <tr>\n",
       "      <th>V1</th>\n",
       "      <td>1.000000</td>\n",
       "      <td>0.990654</td>\n",
       "      <td>0.947619</td>\n",
       "      <td>0.984917</td>\n",
       "      <td>0.985102</td>\n",
       "      <td>0.994283</td>\n",
       "      <td>0.999954</td>\n",
       "      <td>0.950215</td>\n",
       "    </tr>\n",
       "    <tr>\n",
       "      <th>V2</th>\n",
       "      <td>0.990654</td>\n",
       "      <td>1.000000</td>\n",
       "      <td>0.937061</td>\n",
       "      <td>0.964122</td>\n",
       "      <td>0.964438</td>\n",
       "      <td>0.975923</td>\n",
       "      <td>0.990426</td>\n",
       "      <td>0.917521</td>\n",
       "    </tr>\n",
       "    <tr>\n",
       "      <th>V3</th>\n",
       "      <td>0.947619</td>\n",
       "      <td>0.937061</td>\n",
       "      <td>1.000000</td>\n",
       "      <td>0.940742</td>\n",
       "      <td>0.940745</td>\n",
       "      <td>0.948130</td>\n",
       "      <td>0.947792</td>\n",
       "      <td>0.900400</td>\n",
       "    </tr>\n",
       "    <tr>\n",
       "      <th>V4</th>\n",
       "      <td>0.984917</td>\n",
       "      <td>0.964122</td>\n",
       "      <td>0.940742</td>\n",
       "      <td>1.000000</td>\n",
       "      <td>0.999965</td>\n",
       "      <td>0.995020</td>\n",
       "      <td>0.985104</td>\n",
       "      <td>0.987685</td>\n",
       "    </tr>\n",
       "    <tr>\n",
       "      <th>V5</th>\n",
       "      <td>0.985102</td>\n",
       "      <td>0.964438</td>\n",
       "      <td>0.940745</td>\n",
       "      <td>0.999965</td>\n",
       "      <td>1.000000</td>\n",
       "      <td>0.995116</td>\n",
       "      <td>0.985238</td>\n",
       "      <td>0.987497</td>\n",
       "    </tr>\n",
       "    <tr>\n",
       "      <th>V6</th>\n",
       "      <td>0.994283</td>\n",
       "      <td>0.975923</td>\n",
       "      <td>0.948130</td>\n",
       "      <td>0.995020</td>\n",
       "      <td>0.995116</td>\n",
       "      <td>1.000000</td>\n",
       "      <td>0.994309</td>\n",
       "      <td>0.970414</td>\n",
       "    </tr>\n",
       "    <tr>\n",
       "      <th>V7</th>\n",
       "      <td>0.999954</td>\n",
       "      <td>0.990426</td>\n",
       "      <td>0.947792</td>\n",
       "      <td>0.985104</td>\n",
       "      <td>0.985238</td>\n",
       "      <td>0.994309</td>\n",
       "      <td>1.000000</td>\n",
       "      <td>0.950647</td>\n",
       "    </tr>\n",
       "    <tr>\n",
       "      <th>V8</th>\n",
       "      <td>0.950215</td>\n",
       "      <td>0.917521</td>\n",
       "      <td>0.900400</td>\n",
       "      <td>0.987685</td>\n",
       "      <td>0.987497</td>\n",
       "      <td>0.970414</td>\n",
       "      <td>0.950647</td>\n",
       "      <td>1.000000</td>\n",
       "    </tr>\n",
       "  </tbody>\n",
       "</table>\n",
       "</div>"
      ],
      "text/plain": [
       "          V1        V2        V3        V4        V5        V6        V7  \\\n",
       "V1  1.000000  0.990654  0.947619  0.984917  0.985102  0.994283  0.999954   \n",
       "V2  0.990654  1.000000  0.937061  0.964122  0.964438  0.975923  0.990426   \n",
       "V3  0.947619  0.937061  1.000000  0.940742  0.940745  0.948130  0.947792   \n",
       "V4  0.984917  0.964122  0.940742  1.000000  0.999965  0.995020  0.985104   \n",
       "V5  0.985102  0.964438  0.940745  0.999965  1.000000  0.995116  0.985238   \n",
       "V6  0.994283  0.975923  0.948130  0.995020  0.995116  1.000000  0.994309   \n",
       "V7  0.999954  0.990426  0.947792  0.985104  0.985238  0.994309  1.000000   \n",
       "V8  0.950215  0.917521  0.900400  0.987685  0.987497  0.970414  0.950647   \n",
       "\n",
       "          V8  \n",
       "V1  0.950215  \n",
       "V2  0.917521  \n",
       "V3  0.900400  \n",
       "V4  0.987685  \n",
       "V5  0.987497  \n",
       "V6  0.970414  \n",
       "V7  0.950647  \n",
       "V8  1.000000  "
      ]
     },
     "execution_count": 3,
     "metadata": {},
     "output_type": "execute_result"
    }
   ],
   "source": [
    "correlation = df.drop(axis=1, labels='Seq').corr()\n",
    "correlation\n"
   ]
  },
  {
   "cell_type": "markdown",
   "metadata": {},
   "source": [
    "O Coeficiente de Correlação por Postos de Spearman, é uma medida não paramétrica da dependência dos postos das variáveis.\n",
    "\n",
    "Este coeficiente também pode ser chamado de ρ (rho) de Spearman, rs de Spearman ou Correlação de Spearman. Como o nome já dá a entender, a correlação de Spearman descreve a relação entre as variáveis através de uma função monotética.\n",
    "\n",
    "Isso significa, de maneira simplificada, que ele está analisando se, quando o valor de uma variável aumenta ou diminui, o valor da outra variável aumenta ou diminui.\n",
    "\n",
    "fonte - https://psicometriaonline.com.br/o-que-e-correlacao-de-spearman/"
   ]
  },
  {
   "cell_type": "markdown",
   "metadata": {},
   "source": [
    "Para uma análise mais fácil, representei graficamente a matriz de correlação usando gráficos com um mapa de calor."
   ]
  },
  {
   "cell_type": "code",
   "execution_count": 4,
   "metadata": {},
   "outputs": [
    {
     "data": {
      "image/png": "[encoded data removed]",
      "text/plain": [
       "<Figure size 640x480 with 2 Axes>"
      ]
     },
     "metadata": {},
     "output_type": "display_data"
    }
   ],
   "source": [
    "plp.imshow(correlation, cmap='jet', aspect='auto')\n",
    "for i in range(len(correlation.index)):\n",
    "    for j in range(len(correlation.columns)):\n",
    "        text = plp.text(j, i, f'{correlation.iloc[i, j]:.2f}', ha='center', va='center', color='black')\n",
    "plp.colorbar()\n",
    "plp.show()"
   ]
  },
  {
   "cell_type": "markdown",
   "metadata": {},
   "source": [
    "Como da para ver claramente, o equipamento V3 (no grafico a linha e coluna 2) apresenta uma coloração significativamente diferente dos outros sensores de outros equipamento, onde pode indicar uma anomalia na leitura e possivelmente um defeito no equipamento. "
   ]
  },
  {
   "cell_type": "markdown",
   "metadata": {},
   "source": [
    "Em uma análise mais simples retirei a média de variação de cada equipamento e avaliei qual o equipamento que contém a menor media da variância.  Onde demonstrou de novo que o equipamento V3 apresenta uma media de correlações menor que os demais equipamentos"
   ]
  },
  {
   "cell_type": "code",
   "execution_count": 13,
   "metadata": {},
   "outputs": [
    {
     "data": {
      "text/plain": [
       "V1    0.981593\n",
       "V2    0.967518\n",
       "V3    0.945311\n",
       "V4    0.982194\n",
       "V5    0.982263\n",
       "V6    0.984149\n",
       "V7    0.981684\n",
       "V8    0.958047\n",
       "dtype: float64"
      ]
     },
     "execution_count": 13,
     "metadata": {},
     "output_type": "execute_result"
    }
   ],
   "source": [
    "medias = correlation.mean(axis=1)\n",
    "medias"
   ]
  },
  {
   "cell_type": "code",
   "execution_count": 14,
   "metadata": {},
   "outputs": [
    {
     "name": "stdout",
     "output_type": "stream",
     "text": [
      "O Menor valor da médias das correlações dos sensores: \n",
      " V3 - 0.945311119739958\n"
     ]
    }
   ],
   "source": [
    "print('O Menor valor da médias das correlações dos sensores: \\n', medias.idxmin(),'-', medias.min())"
   ]
  },
  {
   "cell_type": "markdown",
   "metadata": {},
   "source": [
    "Plotando o valor das médias das correlaões de cada equipamento conseguimos, de forma mais fácil, visualizar.\n",
    "Nota-se, também, que o equipamento V8 e em seguida o V2 apresentam uma média das correlações menor, onde pode indicar um equipamento próximo à falha ao consideramos esse metodo de análise e dados."
   ]
  },
  {
   "cell_type": "code",
   "execution_count": 12,
   "metadata": {},
   "outputs": [
    {
     "data": {
      "text/plain": [
       "[<matplotlib.lines.Line2D at 0x7f13c1df9f50>]"
      ]
     },
     "execution_count": 12,
     "metadata": {},
     "output_type": "execute_result"
    },
    {
     "data": {
      "image/png": "[encoded data removed]",
      "text/plain": [
       "<Figure size 640x480 with 1 Axes>"
      ]
     },
     "metadata": {},
     "output_type": "display_data"
    }
   ],
   "source": [
    "plp.grid(True)\n",
    "plp.plot(medias,'ro',linestyle='dashed')"
   ]
  }
 ],
 "metadata": {
  "kernelspec": {
   "display_name": "base",
   "language": "python",
   "name": "python3"
  },
  "language_info": {
   "codemirror_mode": {
    "name": "ipython",
    "version": 3
   },
   "file_extension": ".py",
   "mimetype": "text/x-python",
   "name": "python",
   "nbconvert_exporter": "python",
   "pygments_lexer": "ipython3",
   "version": "3.11.5"
  }
 },
 "nbformat": 4,
 "nbformat_minor": 2
}
